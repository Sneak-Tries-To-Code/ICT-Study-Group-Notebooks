{
 "cells": [
  {
   "cell_type": "markdown",
   "metadata": {},
   "source": [
    "<font size=\"5\"><u><strong>Lesson 3 - Introduction to variables</strong></u></font>\n",
    "<br>Hi everyone! Last lesson we learnt <code>print()</code> and the console. You should have been wondering: Why do double quotes <code>\"</code> and single quotes <code>'</code> both work?\n",
    "<br>Well, today hopefully I'll answer that question. But let's try something different first!\n",
    "<br>Try running the following code:"
   ]
  },
  {
   "cell_type": "code",
   "execution_count": 2,
   "metadata": {},
   "outputs": [
    {
     "name": "stdout",
     "output_type": "stream",
     "text": [
      "tsundere\n"
     ]
    }
   ],
   "source": [
    "your_favorite_dere = \"tsundere\" # Feel free to type your own -dere!\n",
    "print(your_favorite_dere)"
   ]
  },
  {
   "cell_type": "markdown",
   "metadata": {},
   "source": [
    "And run the program.\n",
    "<br>You should see \"tsundere\" pop up on the console.\n",
    "<br>But why isn't there quotes in the <code>print()</code>?\n",
    "<br>This is because <code>your_favorite_dere</code> is a <b>variable</b>, and our <code>print()</code> is referring to it. So the program takes the variable name <code>your_favorite_dere</code>, and finds the line <code>your_favorite_dere = \"tsundere\"</code>.\n",
    "<br>The <code>=</code> here is called the <b>assignment operator</b>. The value <code>\"tsundere\"</code> is <b>assigned</b> to the variable <code>your_favorite_dere</code>.\n",
    "<br>There are a lot more to variables than this, but that's for next lesson.\n",
    "\n",
    "(Also, a hashtag (#) means a line comment. Anything after it will be ignored by the program. Don't try to insult the program, though! It might go rouge.)"
   ]
  }
 ],
 "metadata": {
  "kernelspec": {
   "display_name": "Python 3",
   "language": "python",
   "name": "python3"
  },
  "language_info": {
   "codemirror_mode": {
    "name": "ipython",
    "version": 3
   },
   "file_extension": ".py",
   "mimetype": "text/x-python",
   "name": "python",
   "nbconvert_exporter": "python",
   "pygments_lexer": "ipython3",
   "version": "3.7.7"
  }
 },
 "nbformat": 4,
 "nbformat_minor": 2
}
