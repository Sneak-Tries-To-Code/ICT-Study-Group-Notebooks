{
 "cells": [
  {
   "cell_type": "markdown",
   "source": [
    "<font size=\"5\"><u><strong>Lesson 2 - <code>print()</code> function and console</strong></u></font>\r\n",
    "\r\n",
    "Welcome to lesson 2. Today, we will learn about the <code>print()</code> function and console.\r\n",
    "<br>Please use this website to code and run python:\r\n",
    "<br>https://www.programiz.com/python-programming/online-compiler/\r\n",
    "<br>(We will teach you how to run python on your own computer, along with some better tools for coding soon.)\r\n",
    "\r\n",
    "Once you enter the website, you should see a <code>main.py</code> and a <code>Shell</code> tab. The <code>main.py</code> will contain your code and <code>Shell</code> your <b>console</b>.\r\n",
    "\r\n",
    "<b><i>What is a console?</i></b>\r\n",
    "<br>Well, for now, a console is a place for output and input, the program will output text there and you will input some values there as well.\r\n",
    "\r\n",
    "<i>Don't mix up <b>consoles</b> and <b>terminals</b>! They refer to different concepts.</i>\r\n",
    "\r\n",
    "Now, let's run our first program, shall we?\r\n",
    "In your <code>main.py</code> tab, you should see this:"
   ],
   "metadata": {}
  },
  {
   "cell_type": "code",
   "execution_count": null,
   "source": [
    "# Online Python compiler (interpreter) to run Python online.\r\n",
    "# Write Python 3 code in this online editor and run it.\r\n",
    "print(\"Hello world\")"
   ],
   "outputs": [],
   "metadata": {}
  },
  {
   "cell_type": "markdown",
   "source": [
    "The <code>print()</code> there is what we are going to learn.\n",
    "<br>Try pressing the \"run\" button there, you should see \"Hello world\" in the <b>console</b>.\n",
    "<br>Now, let's try something else!\n",
    "<br>Do Ctrl + A and backspace on <code>main.py</code> to empty the code, and type:"
   ],
   "metadata": {}
  },
  {
   "cell_type": "code",
   "execution_count": null,
   "source": [
    "print(\"Hello A!\")\r\n",
    "print('Hello B!')\r\n",
    "print(\"Hello C!\")"
   ],
   "outputs": [],
   "metadata": {}
  },
  {
   "cell_type": "markdown",
   "source": [
    "(Don't forget the quotes!)\n",
    "<br>Run the program again, you should see \"Hello A\", \"Hello B\", and \"Hello C\" pop up <b>in order</b>. This is because code runs from top to bottom.\n",
    "<br>Also, you should have guessed by now, the <code>print()</code> function can <b>print</b> text on the console. It can do a lot of interesting things too! But that is for next time."
   ],
   "metadata": {}
  }
 ],
 "metadata": {
  "kernelspec": {
   "display_name": "Python 3",
   "language": "python",
   "name": "python3"
  },
  "language_info": {
   "codemirror_mode": {
    "name": "ipython",
    "version": 3
   },
   "file_extension": ".py",
   "mimetype": "text/x-python",
   "name": "python",
   "nbconvert_exporter": "python",
   "pygments_lexer": "ipython3",
   "version": "3.7.7"
  }
 },
 "nbformat": 4,
 "nbformat_minor": 5
}