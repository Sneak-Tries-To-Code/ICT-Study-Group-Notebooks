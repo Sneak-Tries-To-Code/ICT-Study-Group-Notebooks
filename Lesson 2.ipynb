{
 "cells": [
  {
   "cell_type": "markdown",
   "id": "f2822081",
   "metadata": {},
   "source": [
    "<font size=\"+2\"><u><strong>Lesson 2 - <code>print()</code> function and console</strong></u></font>\n",
    "\n",
    "Welcome to lesson 2. Today, we will learn about the <code>print()</code> function and console.\n",
    "<br>Please use this website to code and run python:\n",
    "<br>https://www.programiz.com/python-programming/online-compiler/\n",
    "<br>(We will teach you how to run python on your own computer, along with some better tools for coding soon.)\n",
    "\n",
    "Once you enter the website, you should see a <code>main.py</code> and a <code>Shell</code> tab. The <code>main.py</code> will contain your code and <code>Shell</code> your <b>console</b>.\n",
    "\n",
    "<b><i>What is a console?</i></b>\n",
    "<br>Well, for now, a console is a place for output and input, the program will output text there and you will input some values there as well.\n",
    "\n",
    "<i>Don't mix up <b>consoles</b> and <b>terminals</b>! They refer to different concepts.</i>\n",
    "\n",
    "Now, let's run our first program, shall we?\n",
    "In your <code>main.py</code> tab, you should see this:"
   ]
  },
  {
   "cell_type": "code",
   "execution_count": null,
   "id": "50d387a2",
   "metadata": {},
   "outputs": [],
   "source": [
    "# Online Python compiler (interpreter) to run Python online.\n",
    "# Write Python 3 code in this online editor and run it.\n",
    "print(\"Hello world\")"
   ]
  },
  {
   "cell_type": "markdown",
   "id": "872ced07",
   "metadata": {},
   "source": [
    "The <code>print()</code> there is what we are going to learn.\n",
    "<br>Try pressing the \"run\" button there, you should see \"Hello world\" in the <b>console</b>.\n",
    "<br>Now, let's try something else!\n",
    "<br>Do Ctrl + A and backspace on <code>main.py</code> to empty the code, and type:"
   ]
  },
  {
   "cell_type": "code",
   "execution_count": null,
   "id": "1cd8e65b",
   "metadata": {},
   "outputs": [],
   "source": [
    "print(\"Hello A!\")\n",
    "print('Hello B!')\n",
    "print(\"Hello C!\")"
   ]
  },
  {
   "cell_type": "markdown",
   "id": "b21e798d",
   "metadata": {},
   "source": [
    "(Don't forget the quotes!)\n",
    "<br>Run the program again, you should see \"Hello A\", \"Hello B\", and \"Hello C\" pop up <b>in order</b>. This is because code runs from top to bottom.\n",
    "<br>Also, you should have guessed by now, the <code>print()</code> function can <b>print</b> text on the console. It can do a lot of interesting things too! But that is for next time."
   ]
  }
 ],
 "metadata": {
  "kernelspec": {
   "display_name": "Python 3",
   "language": "python",
   "name": "python3"
  },
  "language_info": {
   "codemirror_mode": {
    "name": "ipython",
    "version": 3
   },
   "file_extension": ".py",
   "mimetype": "text/x-python",
   "name": "python",
   "nbconvert_exporter": "python",
   "pygments_lexer": "ipython3",
   "version": "3.7.7"
  }
 },
 "nbformat": 4,
 "nbformat_minor": 5
}
